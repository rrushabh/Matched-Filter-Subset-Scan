{
 "cells": [
  {
   "cell_type": "code",
   "execution_count": 2,
   "metadata": {},
   "outputs": [],
   "source": [
    "import numpy as np\n",
    "import pandas as pd\n",
    "import math\n",
    "\n",
    "from node import Node"
   ]
  },
  {
   "cell_type": "code",
   "execution_count": 3,
   "metadata": {},
   "outputs": [
    {
     "name": "stdout",
     "output_type": "stream",
     "text": [
      "TREE SEARCH:\n",
      "Comparing *L (distance 14.065125789341405 ) and *R (distance 13.233966407405633 )\n",
      "Comparing *RL (distance 13.504552255249827 ) and *RR (distance 14.062906246509977 )\n",
      "Comparing *RLL (distance 14.263672297376777 ) and *RLR (distance 13.786903959182629 )\n",
      "Comparing *RLRL (distance 14.2085129562563 ) and *RLRR (distance 14.441927318880156 )\n",
      "Comparing *RLRLL (distance 14.700075031069145 ) and *RLRLR (distance 14.89598107996616 )\n",
      "Comparing *RLRLLL (distance 14.629016704908238 ) and *RLRLLR (distance 16.149485863877853 )\n",
      "Comparing *RLRLLLL (distance 15.470038069965085 ) and *RLRLLLR (distance 15.183061659586116 )\n",
      "Searching node *RLRLLLR with 73 filters\n",
      "Best Matched Filter: \n",
      "[1 0 1 1 1 0 1 1 1 0 1 0 0 1 0 0 0 0 1 1 1 1 1 0 0 0 1 0 0 1 0 1 1 1 0 0 0\n",
      " 0 0 0 0 1 0 0 1 1 0 1 0 1 0 1 0 1 0 1 0 0 1 0 1 1 0 1 0 1 1 1 1 0 0 1 0 0\n",
      " 0 1 0 0 0 0 0 0 1 1 0 1 1 1 1 0 1 0 0 1 0 0 1 1 1 0]\n",
      "  with weighted L1 distance of: 17.801027602716633\n",
      "\n",
      "EXHAUSTIVE SEARCH:\n",
      "Searching node *** with 10000 filters\n",
      "Best Matched Filter: \n",
      "[1 1 0 0 1 1 1 0 1 0 0 1 0 1 0 0 0 1 0 1 0 1 1 1 1 1 1 0 0 0 1 0 1 0 1 0 1\n",
      " 0 0 0 1 1 1 0 0 1 1 1 1 1 0 0 0 0 1 1 1 0 0 0 1 0 1 0 1 0 1 0 0 0 0 0 1 1\n",
      " 1 0 0 0 1 0 1 0 0 0 0 0 1 1 0 0 1 1 0 0 0 1 0 0 1 0]\n",
      "  with weighted L1 distance of: 14.341234657919642\n",
      "\n",
      "Absolute Error: 17.801027602716633 - 14.341234657919642 = 3.459792944796991\n",
      "Percentage Error: 24.12%\n"
     ]
    }
   ],
   "source": [
    "import timeit\n",
    "\n",
    "# sample case from Daniel - heuristic finds correct leaf\n",
    "# theta = pd.DataFrame([[0, 1, 1, 0],\n",
    "#                     [0, 0, 1, 1],\n",
    "#                     [1, 1, 0, 0],\n",
    "#                     [1, 1, 1, 0],\n",
    "#                     [0, 1, 1, 1]])\n",
    "# subset = np.array([0,1,0,0])\n",
    "# weights = np.array([0.5,1,1,1])\n",
    "\n",
    "\n",
    "# sample case from Jackson - heuristic does not find correct leaf\n",
    "# theta = pd.DataFrame([[1, 1, 0, 0, 0],\n",
    "#                        [1, 1, 1, 0, 0],\n",
    "#                        [0, 1, 1, 0, 0],\n",
    "#                        [0, 1, 1, 1, 0],\n",
    "#                        [0, 0, 0, 1, 1],\n",
    "#                        [0, 0, 1, 1, 0],\n",
    "#                        [0, 0, 1, 1, 1]])\n",
    "# subset = np.array([0, 1, 1, 1, 1])\n",
    "# weights = np.array([1, 0.5, 1, 1, 0.3])\n",
    "\n",
    "\n",
    "# random filters\n",
    "theta = pd.DataFrame(np.random.randint(2, size= (10000, 100)))\n",
    "subset = np.random.randint(2, size=100)\n",
    "weights = np.random.uniform(size=100)\n",
    "\n",
    "\n",
    "# load filters from file\n",
    "# theta = pd.read_csv(r\"C:\\Users\\joles\\Downloads\\ex_filter_set (1).csv\").drop('Unnamed: 0', axis = 1)\n",
    "\n",
    "\n",
    "# print(f'Searching for {subset} with weights {weights}\\n')\n",
    "print('TREE SEARCH:')\n",
    "root = Node(theta = theta, name = \"*\")\n",
    "root.build_tree(theta,min_filters_to_split=100) # recursively creates the entire tree\n",
    "predicted_best_filter, predicted_distance_to_best = root.traverse(subset, weights)\n",
    "print(f\"Best Matched Filter: \\n{predicted_best_filter.to_numpy()}\\n  with weighted L1 distance of: {predicted_distance_to_best}\")\n",
    "print()\n",
    "\n",
    "print('EXHAUSTIVE SEARCH:')\n",
    "rightanswer = Node(theta = theta, name = \"***\")\n",
    "rightanswer.build_tree(theta, max_depth=0)\n",
    "true_best_filter, true_distance_to_best = rightanswer.traverse(subset, weights)\n",
    "print(f\"Best Matched Filter: \\n{true_best_filter.to_numpy()}\\n  with weighted L1 distance of: {true_distance_to_best}\")\n",
    "print()\n",
    "\n",
    "difference = predicted_distance_to_best - true_distance_to_best\n",
    "print(f'Absolute Error: {predicted_distance_to_best} - {true_distance_to_best} = {difference}')\n",
    "print(f'Percentage Error: {(difference/true_distance_to_best)*100:.2f}%')"
   ]
  }
 ],
 "metadata": {
  "kernelspec": {
   "display_name": "Python 3",
   "language": "python",
   "name": "python3"
  },
  "language_info": {
   "codemirror_mode": {
    "name": "ipython",
    "version": 3
   },
   "file_extension": ".py",
   "mimetype": "text/x-python",
   "name": "python",
   "nbconvert_exporter": "python",
   "pygments_lexer": "ipython3",
   "version": "3.9.6"
  },
  "orig_nbformat": 4,
  "vscode": {
   "interpreter": {
    "hash": "81794d4967e6c3204c66dcd87b604927b115b27c00565d3d43f05ba2f3a2cb0d"
   }
  }
 },
 "nbformat": 4,
 "nbformat_minor": 2
}
