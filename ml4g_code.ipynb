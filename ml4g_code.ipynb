{
 "cells": [
  {
   "cell_type": "code",
   "execution_count": 2,
   "metadata": {},
   "outputs": [],
   "source": [
    "import numpy as np\n",
    "from cmath import log\n",
    "import math"
   ]
  },
  {
   "cell_type": "code",
   "execution_count": 10,
   "metadata": {},
   "outputs": [],
   "source": [
    "#sample data\n",
    "expected = np.random.normal(100, 20, 10)\n",
    "poissons = np.vectorize(lambda x: np.random.poisson(3*x))\n",
    "observed = poissons(expected)"
   ]
  },
  {
   "cell_type": "code",
   "execution_count": 11,
   "metadata": {},
   "outputs": [
    {
     "data": {
      "text/plain": [
       "(1275.1129553606736+0j)"
      ]
     },
     "execution_count": 11,
     "metadata": {},
     "output_type": "execute_result"
    }
   ],
   "source": [
    "def llr_i(obs, exp, q):\n",
    "    # q = obs/exp\n",
    "    return obs*log(q) + exp*(1-q)\n",
    "\n",
    "llr_i_vec = np.vectorize(llr_i)\n",
    "\n",
    "scores = llr_i_vec(observed, expected, q=(observed/expected))\n",
    "score = sum(scores)\n",
    "score"
   ]
  },
  {
   "cell_type": "code",
   "execution_count": 5,
   "metadata": {},
   "outputs": [],
   "source": [
    "#binary search for q min\n",
    "def find_q_min(observed, expected):\n",
    "    low = 0.0000001\n",
    "    high = observed/expected\n",
    "\n",
    "    while np.abs(high - low) > 0.000001:\n",
    "        mid = (low + high) / 2\n",
    "        \n",
    "        if (observed*log(mid) + expected*(1-mid)) > 0:\n",
    "            high = mid\n",
    "        else:\n",
    "            low = mid\n",
    "    return (high+low)/2\n",
    "\n",
    "def find_q_max(observed, expected):\n",
    "    low = observed/expected\n",
    "    high = 1000000\n",
    "    while np.abs(high - low) > 0.000001:\n",
    "        mid = (low + high) / 2\n",
    "        \n",
    "        if (observed*log(mid) + expected*(1-mid)) > 0:\n",
    "            high = mid\n",
    "        else:\n",
    "            low = mid\n",
    "    return (high+low)/2"
   ]
  },
  {
   "cell_type": "code",
   "execution_count": 6,
   "metadata": {},
   "outputs": [],
   "source": [
    "def binary_search_on_score_for_q_min(count,baseline,q_mle):\n",
    "    q_temp_min = 0.000001\n",
    "    q_temp_max = q_mle\n",
    "    while np.abs(q_temp_max-q_temp_min) > 0.000001:\n",
    "        q_temp_mid = (q_temp_min+q_temp_max)/2\n",
    "        if np.sign(llr_i(count,baseline, q_temp_mid)) > 0:\n",
    "            q_temp_max = q_temp_max-(q_temp_max-q_temp_min)/2\n",
    "        else:\n",
    "            q_temp_min = q_temp_min+(q_temp_max-q_temp_min)/2\n",
    "    return (q_temp_min+q_temp_max)/2\n",
    "\n",
    "def binary_search_on_score_for_q_max(count,baseline,q_mle):\n",
    "    q_temp_min = q_mle\n",
    "    q_temp_max = 1000000.0\n",
    "    while np.abs(q_temp_max-q_temp_min) > 0.000001:\n",
    "        q_temp_mid = (q_temp_min+q_temp_max)/2\n",
    "        if np.sign(llr_i(count,baseline, q_temp_mid)) > 0:\n",
    "            q_temp_min = q_temp_min+(q_temp_max-q_temp_min)/2\n",
    "        else:\n",
    "             q_temp_max = q_temp_max-(q_temp_max-q_temp_min)/2\n",
    "    return (q_temp_min+q_temp_max)/2\n",
    "\n",
    "\n",
    "def binary_search_on_score_for_q_min_pen(count,baseline,delta,q_mle):\n",
    "    q_temp_min = 0.000001\n",
    "    q_temp_max = q_mle\n",
    "    while np.abs(q_temp_max-q_temp_min) > 0.000001:\n",
    "        q_temp_mid = (q_temp_min+q_temp_max)/2\n",
    "        if np.sign(llr_i(count,baseline, q_temp_mid) - delta) > 0:\n",
    "            q_temp_max = q_temp_max-(q_temp_max-q_temp_min)/2\n",
    "        else:\n",
    "            q_temp_min = q_temp_min+(q_temp_max-q_temp_min)/2\n",
    "    return (q_temp_min+q_temp_max)/2\n",
    "\n",
    "def binary_search_on_score_for_q_max_pen(count,baseline,delta,q_mle):\n",
    "    q_temp_min = q_mle\n",
    "    q_temp_max = 1000000.0\n",
    "    while np.abs(q_temp_max-q_temp_min) > 0.000001:\n",
    "        q_temp_mid = (q_temp_min+q_temp_max)/2\n",
    "        if np.sign(llr_i(count,baseline,q_temp_mid) - delta) > 0: \n",
    "            q_temp_min = q_temp_min+(q_temp_max-q_temp_min)/2\n",
    "        else:\n",
    "             q_temp_max = q_temp_max-(q_temp_max-q_temp_min)/2\n",
    "    return (q_temp_min+q_temp_max)/2"
   ]
  },
  {
   "cell_type": "code",
   "execution_count": 7,
   "metadata": {},
   "outputs": [
    {
     "ename": "NameError",
     "evalue": "name 'qmle' is not defined",
     "output_type": "error",
     "traceback": [
      "\u001b[1;31m---------------------------------------------------------------------------\u001b[0m",
      "\u001b[1;31mNameError\u001b[0m                                 Traceback (most recent call last)",
      "\u001b[1;32m~\\AppData\\Local\\Temp/ipykernel_20396/2597413927.py\u001b[0m in \u001b[0;36m<module>\u001b[1;34m\u001b[0m\n\u001b[0;32m      6\u001b[0m \u001b[0mdelta\u001b[0m \u001b[1;33m=\u001b[0m \u001b[1;36m0.01\u001b[0m\u001b[1;33m\u001b[0m\u001b[1;33m\u001b[0m\u001b[0m\n\u001b[0;32m      7\u001b[0m \u001b[1;33m\u001b[0m\u001b[0m\n\u001b[1;32m----> 8\u001b[1;33m \u001b[0mprint\u001b[0m\u001b[1;33m(\u001b[0m\u001b[0mbinary_search_on_score_for_q_min\u001b[0m\u001b[1;33m(\u001b[0m\u001b[0mct\u001b[0m\u001b[1;33m,\u001b[0m \u001b[0mbs\u001b[0m\u001b[1;33m,\u001b[0m \u001b[0mqmle\u001b[0m\u001b[1;33m)\u001b[0m\u001b[1;33m)\u001b[0m\u001b[1;33m\u001b[0m\u001b[1;33m\u001b[0m\u001b[0m\n\u001b[0m\u001b[0;32m      9\u001b[0m \u001b[0mprint\u001b[0m\u001b[1;33m(\u001b[0m\u001b[0mbinary_search_on_score_for_q_min_pen\u001b[0m\u001b[1;33m(\u001b[0m\u001b[0mct\u001b[0m\u001b[1;33m,\u001b[0m \u001b[0mbs\u001b[0m\u001b[1;33m,\u001b[0m \u001b[0mdelta\u001b[0m\u001b[1;33m,\u001b[0m \u001b[0mqmle\u001b[0m\u001b[1;33m)\u001b[0m\u001b[1;33m)\u001b[0m\u001b[1;33m\u001b[0m\u001b[1;33m\u001b[0m\u001b[0m\n\u001b[0;32m     10\u001b[0m \u001b[0mprint\u001b[0m\u001b[1;33m(\u001b[0m\u001b[0mbinary_search_on_score_for_q_max_pen\u001b[0m\u001b[1;33m(\u001b[0m\u001b[0mct\u001b[0m\u001b[1;33m,\u001b[0m \u001b[0mbs\u001b[0m\u001b[1;33m,\u001b[0m \u001b[0mdelta\u001b[0m\u001b[1;33m,\u001b[0m \u001b[0mqmle\u001b[0m\u001b[1;33m)\u001b[0m\u001b[1;33m)\u001b[0m\u001b[1;33m\u001b[0m\u001b[1;33m\u001b[0m\u001b[0m\n",
      "\u001b[1;31mNameError\u001b[0m: name 'qmle' is not defined"
     ]
    }
   ],
   "source": [
    "ct = observed[1]\n",
    "bs = expected[1]\n",
    "qmle_array = observed/expected\n",
    "qmle_array[1]\n",
    "\n",
    "delta = 0.01\n",
    "\n",
    "print(binary_search_on_score_for_q_min(ct, bs, qmle))\n",
    "print(binary_search_on_score_for_q_min_pen(ct, bs, delta, qmle))\n",
    "print(binary_search_on_score_for_q_max_pen(ct, bs, delta, qmle))\n",
    "print(binary_search_on_score_for_q_max(ct, bs, qmle))\n",
    "\n",
    "def find_interval(observed, expected, delta, qmle):\n",
    "    min_unpen = binary_search_on_score_for_q_min(observed, expected, qmle)\n",
    "    min_pen = binary_search_on_score_for_q_min_pen(observed, expected, delta, qmle)\n",
    "    max_pen = binary_search_on_score_for_q_max_pen(observed, expected, delta, qmle)\n",
    "    max_unpen = binary_search_on_score_for_q_max(observed, expected, qmle)\n",
    "    return [min_unpen, min_pen, max_pen, max_unpen]\n",
    "\n",
    "find_intervals = np.vectorize(find_interval)"
   ]
  },
  {
   "cell_type": "code",
   "execution_count": 9,
   "metadata": {},
   "outputs": [
    {
     "data": {
      "text/plain": [
       "array([0.99999959, 0.99999961, 0.99999961, ..., 8.69730314, 9.57633293,\n",
       "       9.57655575])"
      ]
     },
     "execution_count": 9,
     "metadata": {},
     "output_type": "execute_result"
    }
   ],
   "source": [
    "intervals = [[0]*4 for i in range(len(observed))]\n",
    "\n",
    "for i in range(len(observed)):\n",
    "    min_unpen = binary_search_on_score_for_q_min(observed[i], expected[i], qmle_array[i])\n",
    "    min_pen = binary_search_on_score_for_q_min_pen(observed[i], expected[i], delta, qmle_array[i])\n",
    "    max_pen = binary_search_on_score_for_q_max_pen(observed[i], expected[i], delta, qmle_array[i])\n",
    "    max_unpen = binary_search_on_score_for_q_max(observed[i], expected[i], qmle_array[i])\n",
    "    intervals[i] = [min_unpen, min_pen, max_pen, max_unpen]\n",
    "\n",
    "\n",
    "intervals = np.array(intervals)\n",
    "q_values = np.unique(intervals.reshape(1, -1))\n",
    "q_values"
   ]
  },
  {
   "cell_type": "markdown",
   "metadata": {},
   "source": [
    "Search through filter to see if element in $S \\backslash \\Theta $ or $ \\Theta \\backslash S$"
   ]
  },
  {
   "cell_type": "code",
   "execution_count": 89,
   "metadata": {},
   "outputs": [],
   "source": [
    "filter1 = poissons(expected)\n",
    "filter2 = poissons(expected)"
   ]
  },
  {
   "cell_type": "code",
   "execution_count": null,
   "metadata": {},
   "outputs": [],
   "source": []
  }
 ],
 "metadata": {
  "kernelspec": {
   "display_name": "Python 3.9.7 ('base')",
   "language": "python",
   "name": "python3"
  },
  "language_info": {
   "codemirror_mode": {
    "name": "ipython",
    "version": 3
   },
   "file_extension": ".py",
   "mimetype": "text/x-python",
   "name": "python",
   "nbconvert_exporter": "python",
   "pygments_lexer": "ipython3",
   "version": "3.9.7"
  },
  "orig_nbformat": 4,
  "vscode": {
   "interpreter": {
    "hash": "29d3f7eede10c00fe45892452721a4933fb3b4df7d5bb862d2c41a003536453b"
   }
  }
 },
 "nbformat": 4,
 "nbformat_minor": 2
}
